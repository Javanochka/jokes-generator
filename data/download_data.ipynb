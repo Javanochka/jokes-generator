{
 "cells": [
  {
   "cell_type": "code",
   "execution_count": 2,
   "metadata": {
    "scrolled": true
   },
   "outputs": [
    {
     "name": "stdout",
     "output_type": "stream",
     "text": [
      "/home/anna/Documents/HSE/DLProject\n"
     ]
    }
   ],
   "source": [
    "import praw\n",
    "import psraw\n",
    "import os\n",
    "\n",
    "print(os.getcwd())\n",
    "\n",
    "reddit = praw.Reddit()"
   ]
  },
  {
   "cell_type": "code",
   "execution_count": 10,
   "metadata": {},
   "outputs": [],
   "source": [
    "posts = []\n",
    "\n",
    "for submission in psraw.submission_search(reddit, subreddit='jokes', sort='asc', limit=50000, after=1447289061):\n",
    "    posts.append({'id': submission.id, \n",
    "                  'tag': submission.link_flair_css_class, \n",
    "                  'score': submission.score,\n",
    "                  'title': submission.title,\n",
    "                  'text': submission.selftext})\n",
    "    \n",
    "    \"\"\"\n",
    "\n",
    "for submission in reddit.subreddit('jokes').top(limit=100500):\n",
    "    posts.append({'id': submission.id, \n",
    "                  'tag': submission.link_flair_css_class, \n",
    "                  'score': submission.score,\n",
    "                  'title': submission.title,\n",
    "                  'text': submission.selftext})\"\"\""
   ]
  },
  {
   "cell_type": "code",
   "execution_count": 11,
   "metadata": {},
   "outputs": [
    {
     "name": "stdout",
     "output_type": "stream",
     "text": [
      "50000\n"
     ]
    }
   ],
   "source": [
    "print(len(posts))"
   ]
  },
  {
   "cell_type": "code",
   "execution_count": 12,
   "metadata": {},
   "outputs": [
    {
     "name": "stdout",
     "output_type": "stream",
     "text": [
      "[{'id': '4cv95n', 'tag': None, 'score': 172, 'title': 'A sheep, a drum and a snake fall down a cliff', 'text': 'Ba - Dumm - Tss'}, {'id': '4cv9bm', 'tag': None, 'score': 1, 'title': 'Donald Trump is a cuck', 'text': '[removed]'}, {'id': '4cv9xr', 'tag': 'politics', 'score': 1, 'title': 'What is Donald Trumps favorite day of the year?', 'text': '[deleted]'}, {'id': '4cvaig', 'tag': None, 'score': 1, 'title': 'Why did the chicken cross the road?', 'text': '[deleted]'}, {'id': '4cvb2t', 'tag': 'dirty', 'score': 0, 'title': 'How do you stop a nigger from drowning?', 'text': '[deleted]'}, {'id': '4cvb3o', 'tag': None, 'score': 32, 'title': 'I work at a coin factory.', 'text': 'It just makes cents to me.'}, {'id': '4cvbcj', 'tag': None, 'score': 1, 'title': 'Big Donald.', 'text': '[removed]'}, {'id': '4cvbrx', 'tag': None, 'score': 0, 'title': 'Why do Americans just ignore the \"H\" in \"Herb\"?', 'text': 'Honestly, no idea!'}, {'id': '4cvc9d', 'tag': None, 'score': 1, 'title': 'Trump', 'text': '[removed]'}, {'id': '4cvcrt', 'tag': None, 'score': 1, 'title': \"When I was 4 years old my brother was half of my age. Now, I'm 100 years old. What's the age of my brother right now?\", 'text': '[removed]'}]\n"
     ]
    }
   ],
   "source": [
    "print(posts[-10:])"
   ]
  },
  {
   "cell_type": "code",
   "execution_count": 56,
   "metadata": {},
   "outputs": [
    {
     "data": {
      "text/plain": [
       "[{'id': '66m0w',\n",
       "  'tag': None,\n",
       "  'score': 3,\n",
       "  'title': 'A Day in Court',\n",
       "  'text': ''},\n",
       " {'id': '689ag',\n",
       "  'tag': None,\n",
       "  'score': 0,\n",
       "  'title': 'Photograph of Software project Team',\n",
       "  'text': ''}]"
      ]
     },
     "execution_count": 56,
     "metadata": {},
     "output_type": "execute_result"
    }
   ],
   "source": [
    "posts"
   ]
  },
  {
   "cell_type": "code",
   "execution_count": 14,
   "metadata": {},
   "outputs": [],
   "source": [
    "import json\n",
    "\n",
    "with open(\"data_jokes_4.json\", \"w\") as write_file:\n",
    "    json.dump({'posts':posts}, write_file)"
   ]
  },
  {
   "cell_type": "code",
   "execution_count": 20,
   "metadata": {},
   "outputs": [],
   "source": [
    "for collection in reddit.subreddit('jokes').collections:\n",
    "    print(collection.permalink)"
   ]
  },
  {
   "cell_type": "code",
   "execution_count": 21,
   "metadata": {},
   "outputs": [
    {
     "name": "stdout",
     "output_type": "stream",
     "text": [
      "[{'violationReason': None, 'description': 'Personal attacks will not be tolerated. If you want to be a dick, go to /r/insults', 'createdUtc': 1458781276.0, 'priority': 0, 'descriptionHtml': '<!-- SC_OFF --><div class=\"md\"><p>Personal attacks will not be tolerated. If you want to be a dick, go to <a href=\"/r/insults\">/r/insults</a></p>\\n</div><!-- SC_ON -->', 'shortName': 'Keep the comment section civil and light hearted.'}, {'violationReason': None, 'description': \"Please only report reposts if they have been posted recently - not because you've seen the joke before.\", 'createdUtc': 1475846742.0, 'priority': 1, 'descriptionHtml': '<!-- SC_OFF --><div class=\"md\"><p>Please only report reposts if they have been posted recently - not because you&#39;ve seen the joke before.</p>\\n</div><!-- SC_ON -->', 'shortName': \"It's a repost.\"}, {'violationReason': None, 'description': \"It's actually, 100% legit spam.\", 'createdUtc': 1475846764.0, 'priority': 2, 'descriptionHtml': '<!-- SC_OFF --><div class=\"md\"><p>It&#39;s actually, 100% legit spam.</p>\\n</div><!-- SC_ON -->', 'shortName': \"It's actually Spam.\"}, {'violationReason': None, 'description': '3 joke limit.', 'createdUtc': 1555583008.0, 'priority': 3, 'descriptionHtml': '<!-- SC_OFF --><div class=\"md\"><p>3 joke limit.</p>\\n</div><!-- SC_ON -->', 'shortName': \"As a measure to prevent spam please don't post more than 3 jokes every 24 hours.\"}, {'violationReason': None, 'description': 'Jokes must be in text format, no emojis or linking allowed. (YouTube, Imgur, etc)\\nJokes are required to have a title and a punchline in the text box [deleted] and [removed] are not valid punchlines.', 'createdUtc': 1555624801.0, 'priority': 4, 'descriptionHtml': '<!-- SC_OFF --><div class=\"md\"><p>Jokes must be in text format, no emojis or linking allowed. (YouTube, Imgur, etc)\\nJokes are required to have a title and a punchline in the text box [deleted] and [removed] are not valid punchlines.</p>\\n</div><!-- SC_ON -->', 'shortName': 'No emojis, links or title only jokes.'}, {'violationReason': None, 'description': '', 'createdUtc': 1555624837.0, 'priority': 5, 'descriptionHtml': None, 'shortName': 'Jokes must be in English.'}, {'violationReason': None, 'description': 'If you post a NSFW image/link in the comments, it must be tagged as NSFW (Nudity/gross images) or NSFL (Gore/extremely disturbing images, and only if relevant to the conversation)', 'createdUtc': 1555624928.0, 'priority': 6, 'descriptionHtml': '<!-- SC_OFF --><div class=\"md\"><p>If you post a NSFW image/link in the comments, it must be tagged as NSFW (Nudity/gross images) or NSFL (Gore/extremely disturbing images, and only if relevant to the conversation)</p>\\n</div><!-- SC_ON -->', 'shortName': 'Mark NSFW and NSFL comments.'}, {'violationReason': None, 'description': 'This subreddit is not a platform for blatant self-promotion - this includes asking users to subscribe to other subreddits.', 'createdUtc': 1555625084.0, 'priority': 7, 'descriptionHtml': '<!-- SC_OFF --><div class=\"md\"><p>This subreddit is not a platform for blatant self-promotion - this includes asking users to subscribe to other subreddits.</p>\\n</div><!-- SC_ON -->', 'shortName': 'No self-promotion.'}]\n",
      "[<praw.models.reddit.widgets.Image object at 0x7f46d40db828>]\n"
     ]
    }
   ],
   "source": [
    "for widget in reddit.subreddit('jokes').widgets.sidebar:\n",
    "    print(widget)"
   ]
  },
  {
   "cell_type": "code",
   "execution_count": 46,
   "metadata": {},
   "outputs": [
    {
     "name": "stdout",
     "output_type": "stream",
     "text": [
      "1038\n"
     ]
    }
   ],
   "source": [
    "print(len(posts))"
   ]
  },
  {
   "cell_type": "code",
   "execution_count": 42,
   "metadata": {},
   "outputs": [
    {
     "data": {
      "text/plain": [
       "{'id': 'ddmyde',\n",
       " 'tag': 'long',\n",
       " 'score': 27023,\n",
       " 'title': 'Why condoms come in packs of 3, 6 and 12!',\n",
       " 'text': 'A man walks into the pharmacy with his 8-year old son.\\n\\nThey happen to walk by the condom display, and the boy asks, \"What are these, Dad?\"\\n\\nTo which the man matter-of-factly replies, \"Those are called Condoms son. Men use them to have safe sex.\"\\n\\n\"Oh I see,\" replied the boy pensively. \"Yes, I\\'ve heard of that in health class at school.\"\\n\\nHe looks over the display and picks up a package of 3 and asks, \"Why are there 3 in this package?\"\\n\\nThe dad replies, \"Those are for high school boys, one For Friday, one for Saturday, and one for Sunday.\"\\n\\n\"Cool\" says the boy. He notices a 6 pack and asks, \"Then who are these for?\"\\n\\n\"Those are for college men,\" the dad answers, \"two For Friday, two for Saturday, and two for Sunday.\"\\n\\n\"WOW!\" exclaimed the boy, \"then who uses THESE?\" he asks, picking up a 12 pack. With a sigh and a tear in his eye, the dad replies.\\n\\n\"Those are for married men, son. One for January, one for February, one for March...\"'}"
      ]
     },
     "execution_count": 42,
     "metadata": {},
     "output_type": "execute_result"
    }
   ],
   "source": [
    "posts[-1]"
   ]
  },
  {
   "cell_type": "code",
   "execution_count": 3,
   "metadata": {},
   "outputs": [],
   "source": [
    "sub = reddit.submission(id='3sh7cn')"
   ]
  },
  {
   "cell_type": "code",
   "execution_count": 4,
   "metadata": {},
   "outputs": [
    {
     "data": {
      "text/plain": [
       "{'_reddit': <praw.reddit.Reddit at 0x7f504c031c18>,\n",
       " '_fetched': False,\n",
       " '_info_params': {},\n",
       " 'comment_limit': 2048,\n",
       " 'comment_sort': 'best',\n",
       " 'id': '3sh7cn',\n",
       " '_flair': None,\n",
       " '_mod': None,\n",
       " '_comments_by_id': {}}"
      ]
     },
     "execution_count": 4,
     "metadata": {},
     "output_type": "execute_result"
    }
   ],
   "source": [
    "vars(sub)"
   ]
  },
  {
   "cell_type": "code",
   "execution_count": 5,
   "metadata": {},
   "outputs": [
    {
     "data": {
      "text/plain": [
       "0"
      ]
     },
     "execution_count": 5,
     "metadata": {},
     "output_type": "execute_result"
    }
   ],
   "source": [
    "sub.score"
   ]
  },
  {
   "cell_type": "code",
   "execution_count": 6,
   "metadata": {},
   "outputs": [
    {
     "data": {
      "text/plain": [
       "{'_reddit': <praw.reddit.Reddit at 0x7f504c031c18>,\n",
       " '_fetched': True,\n",
       " '_info_params': {},\n",
       " 'comment_limit': 2048,\n",
       " 'comment_sort': 'best',\n",
       " 'id': '3sh7cn',\n",
       " '_flair': None,\n",
       " '_mod': None,\n",
       " '_comments_by_id': {},\n",
       " 'approved_at_utc': None,\n",
       " 'subreddit': Subreddit(display_name='Jokes'),\n",
       " 'selftext': '[deleted]',\n",
       " 'user_reports': [],\n",
       " 'saved': False,\n",
       " 'mod_reason_title': None,\n",
       " 'gilded': 0,\n",
       " 'clicked': False,\n",
       " 'title': 'My ex-girlfriend must have been an airline attendant.',\n",
       " 'link_flair_richtext': [],\n",
       " 'subreddit_name_prefixed': 'r/Jokes',\n",
       " 'hidden': False,\n",
       " 'pwls': 6,\n",
       " 'link_flair_css_class': None,\n",
       " 'downs': 0,\n",
       " 'thumbnail_height': None,\n",
       " 'parent_whitelist_status': 'all_ads',\n",
       " 'hide_score': False,\n",
       " 'name': 't3_3sh7cn',\n",
       " 'quarantine': False,\n",
       " 'link_flair_text_color': 'dark',\n",
       " 'upvote_ratio': 0.5,\n",
       " 'author_flair_background_color': '',\n",
       " 'subreddit_type': 'public',\n",
       " 'ups': 0,\n",
       " 'total_awards_received': 0,\n",
       " 'media_embed': {},\n",
       " 'thumbnail_width': None,\n",
       " 'author_flair_template_id': None,\n",
       " 'is_original_content': False,\n",
       " 'secure_media': None,\n",
       " 'is_reddit_media_domain': False,\n",
       " 'is_meta': False,\n",
       " 'category': None,\n",
       " 'secure_media_embed': {},\n",
       " 'link_flair_text': None,\n",
       " 'can_mod_post': False,\n",
       " 'num_duplicates': 0,\n",
       " 'approved_by': None,\n",
       " 'thumbnail': 'default',\n",
       " 'edited': False,\n",
       " 'author_flair_css_class': None,\n",
       " 'steward_reports': [],\n",
       " 'gildings': {},\n",
       " 'content_categories': None,\n",
       " 'is_self': True,\n",
       " 'mod_note': None,\n",
       " 'created': 1447317861.0,\n",
       " 'link_flair_type': 'text',\n",
       " 'wls': 6,\n",
       " 'removed_by_category': None,\n",
       " 'banned_by': None,\n",
       " 'domain': 'self.Jokes',\n",
       " 'allow_live_comments': False,\n",
       " 'selftext_html': '<!-- SC_OFF --><div class=\"md\"><p>[deleted]</p>\\n</div><!-- SC_ON -->',\n",
       " 'likes': None,\n",
       " 'suggested_sort': None,\n",
       " 'banned_at_utc': None,\n",
       " 'view_count': None,\n",
       " 'archived': True,\n",
       " 'score': 0,\n",
       " 'no_follow': True,\n",
       " 'is_crosspostable': False,\n",
       " 'pinned': False,\n",
       " 'over_18': False,\n",
       " 'all_awardings': [],\n",
       " 'awarders': [],\n",
       " 'media_only': False,\n",
       " 'can_gild': False,\n",
       " 'spoiler': False,\n",
       " 'locked': False,\n",
       " 'author_flair_text': None,\n",
       " 'visited': False,\n",
       " 'removed_by': None,\n",
       " 'num_reports': None,\n",
       " 'distinguished': None,\n",
       " 'subreddit_id': 't5_2qh72',\n",
       " 'mod_reason_by': None,\n",
       " 'removal_reason': None,\n",
       " 'link_flair_background_color': '',\n",
       " 'is_robot_indexable': False,\n",
       " 'report_reasons': None,\n",
       " 'author': None,\n",
       " 'discussion_type': None,\n",
       " 'num_comments': 0,\n",
       " 'send_replies': False,\n",
       " 'media': None,\n",
       " 'contest_mode': False,\n",
       " 'author_flair_text_color': 'dark',\n",
       " 'permalink': '/r/Jokes/comments/3sh7cn/my_exgirlfriend_must_have_been_an_airline/',\n",
       " 'whitelist_status': 'all_ads',\n",
       " 'stickied': False,\n",
       " 'url': 'https://www.reddit.com/r/Jokes/comments/3sh7cn/my_exgirlfriend_must_have_been_an_airline/',\n",
       " 'subreddit_subscribers': 17550273,\n",
       " 'created_utc': 1447289061.0,\n",
       " 'num_crossposts': 0,\n",
       " 'mod_reports': [],\n",
       " 'is_video': False,\n",
       " '_comments': <praw.models.comment_forest.CommentForest at 0x7f504c031208>}"
      ]
     },
     "execution_count": 6,
     "metadata": {},
     "output_type": "execute_result"
    }
   ],
   "source": [
    "vars(sub)"
   ]
  },
  {
   "cell_type": "code",
   "execution_count": 15,
   "metadata": {},
   "outputs": [],
   "source": [
    "s_posts = []\n",
    "with open(\"data_jokes_clean.json\", \"r\") as fin:\n",
    "    data = json.load(fin)\n",
    "    s_posts += data['posts']\n",
    "with open(\"data_jokes_4.json\", \"r\") as fin:\n",
    "    data = json.load(fin)\n",
    "    s_posts += data['posts']"
   ]
  },
  {
   "cell_type": "code",
   "execution_count": 16,
   "metadata": {},
   "outputs": [
    {
     "data": {
      "text/plain": [
       "136890"
      ]
     },
     "execution_count": 16,
     "metadata": {},
     "output_type": "execute_result"
    }
   ],
   "source": [
    "len(s_posts)"
   ]
  },
  {
   "cell_type": "code",
   "execution_count": 97,
   "metadata": {},
   "outputs": [],
   "source": [
    "with open(\"data_jokes_result.json\", 'w') as fout:\n",
    "    json.dump({'posts':s_posts}, fout)"
   ]
  },
  {
   "cell_type": "code",
   "execution_count": 98,
   "metadata": {},
   "outputs": [
    {
     "data": {
      "text/plain": [
       "{'id': '2y1yoq',\n",
       " 'tag': None,\n",
       " 'score': 0,\n",
       " 'title': 'Oral Sex',\n",
       " 'text': '[deleted]'}"
      ]
     },
     "execution_count": 98,
     "metadata": {},
     "output_type": "execute_result"
    }
   ],
   "source": [
    "s_posts[-1]"
   ]
  },
  {
   "cell_type": "code",
   "execution_count": 17,
   "metadata": {},
   "outputs": [],
   "source": [
    "clean_posts = []\n",
    "\n",
    "for p in s_posts:\n",
    "    if p['text'] != '' and p['text'] != '[deleted]' and p['text'] != '[removed]' and p['score'] > 0:\n",
    "        clean_posts.append(p)"
   ]
  },
  {
   "cell_type": "code",
   "execution_count": 18,
   "metadata": {},
   "outputs": [
    {
     "data": {
      "text/plain": [
       "106355"
      ]
     },
     "execution_count": 18,
     "metadata": {},
     "output_type": "execute_result"
    }
   ],
   "source": [
    "len(clean_posts)"
   ]
  },
  {
   "cell_type": "code",
   "execution_count": 19,
   "metadata": {},
   "outputs": [],
   "source": [
    "with open(\"data_jokes_clean.json\", 'w') as fout:\n",
    "    json.dump({'posts':clean_posts}, fout)"
   ]
  },
  {
   "cell_type": "code",
   "execution_count": 40,
   "metadata": {},
   "outputs": [],
   "source": [
    "cnt = 0\n",
    "for p in clean_posts:\n",
    "    if p['score'] > 100:\n",
    "        cnt += 1"
   ]
  },
  {
   "cell_type": "code",
   "execution_count": 41,
   "metadata": {},
   "outputs": [
    {
     "data": {
      "text/plain": [
       "14291"
      ]
     },
     "execution_count": 41,
     "metadata": {},
     "output_type": "execute_result"
    }
   ],
   "source": [
    "cnt"
   ]
  },
  {
   "cell_type": "code",
   "execution_count": null,
   "metadata": {},
   "outputs": [],
   "source": [
    "for p "
   ]
  }
 ],
 "metadata": {
  "kernelspec": {
   "display_name": "Python 3",
   "language": "python",
   "name": "python3"
  },
  "language_info": {
   "codemirror_mode": {
    "name": "ipython",
    "version": 3
   },
   "file_extension": ".py",
   "mimetype": "text/x-python",
   "name": "python",
   "nbconvert_exporter": "python",
   "pygments_lexer": "ipython3",
   "version": "3.7.3"
  }
 },
 "nbformat": 4,
 "nbformat_minor": 2
}
